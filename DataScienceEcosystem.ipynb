{
 "cells": [
  {
   "cell_type": "markdown",
   "id": "6ae0cfa9-6b43-4246-a7e4-9a10e2989973",
   "metadata": {},
   "source": [
    "# Data Science Tools and Ecosystem"
   ]
  },
  {
   "cell_type": "markdown",
   "id": "09d92e72-b3d6-4b8e-89c7-21f1dd5f113b",
   "metadata": {},
   "source": [
    "In this notebook, Data Science Tools and Ecosystem are summarized. And also some examples are given for evaluating arithmetic expression in Python.  "
   ]
  },
  {
   "cell_type": "markdown",
   "id": "545f74e3-46b3-4124-bcb0-cffbd1b6c0b6",
   "metadata": {},
   "source": [
    "**Objectives:**\n",
    "- List of popular languages for Data Science\n",
    "- List of commonly used for Data Science\n",
    "- Three development environment open source tools used in data science\n",
    "- Some arithmetic expression examples"
   ]
  },
  {
   "cell_type": "markdown",
   "id": "9bc31a32-ab71-4ed3-966a-87e6e0c8dd86",
   "metadata": {},
   "source": [
    "Some of the popular languages that Data Scientists use are:\n",
    "1. Python\n",
    "2. R\n",
    "3. SQL\n",
    "4. Java\n",
    "5. Scala"
   ]
  },
  {
   "cell_type": "markdown",
   "id": "8cfe70dd-e69e-4efb-bdd4-c1b954e826fa",
   "metadata": {},
   "source": [
    "Some of the commonly used libraries used by Data Scientists include:\n",
    "1. Pandas\n",
    "2. NumPy\n",
    "3. Matplotlib\n",
    "4. ggplot2\n",
    "5. SciPy"
   ]
  },
  {
   "cell_type": "markdown",
   "id": "2176a31c-c2d4-4c57-8992-2baea3aef652",
   "metadata": {},
   "source": [
    "|Data Science Tools|\n",
    "|------------------|\n",
    "|Jupyter Notebook|\n",
    "|RStudio|\n",
    "|Apache Spark|"
   ]
  },
  {
   "cell_type": "markdown",
   "id": "94aa74bc-20d9-432b-8d23-e6817496a52a",
   "metadata": {},
   "source": [
    "### Below are a few examples of evaluating arithmetic expressions in Python.\n",
    "-  5+8-2\n",
    "-  (2*8)+4\n",
    "-  17-(3*2)\n",
    "-  (14/2)-1"
   ]
  },
  {
   "cell_type": "code",
   "execution_count": 4,
   "id": "ba8743b7-6e70-4ada-9ece-f26e70a2c8e8",
   "metadata": {},
   "outputs": [
    {
     "data": {
      "text/plain": [
       "17"
      ]
     },
     "execution_count": 4,
     "metadata": {},
     "output_type": "execute_result"
    }
   ],
   "source": [
    "# This a simple arithmetic expression to mutiply 3 by 4 then add 5\n",
    "(3*4)+5"
   ]
  },
  {
   "cell_type": "code",
   "execution_count": 5,
   "id": "da3c18a0-abef-4b7d-a864-cde818708b93",
   "metadata": {},
   "outputs": [
    {
     "data": {
      "text/plain": [
       "3.3333333333333335"
      ]
     },
     "execution_count": 5,
     "metadata": {},
     "output_type": "execute_result"
    }
   ],
   "source": [
    "# This will convert 200 minutes into hours by diving by 60\n",
    "200/60"
   ]
  },
  {
   "cell_type": "markdown",
   "id": "a566e155-8656-41f3-a0d9-d4de4e449d90",
   "metadata": {},
   "source": [
    "## Author\n",
    "Vikas"
   ]
  }
 ],
 "metadata": {
  "kernelspec": {
   "display_name": "Python",
   "language": "python",
   "name": "conda-env-python-py"
  },
  "language_info": {
   "codemirror_mode": {
    "name": "ipython",
    "version": 3
   },
   "file_extension": ".py",
   "mimetype": "text/x-python",
   "name": "python",
   "nbconvert_exporter": "python",
   "pygments_lexer": "ipython3",
   "version": "3.7.12"
  }
 },
 "nbformat": 4,
 "nbformat_minor": 5
}
